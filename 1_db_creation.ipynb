{
 "cells": [
  {
   "cell_type": "markdown",
   "metadata": {},
   "source": [
    "# Database creation"
   ]
  },
  {
   "cell_type": "code",
   "execution_count": 2,
   "metadata": {},
   "outputs": [],
   "source": [
    "import sqlite3\n",
    "import pandas as pd\n",
    "import os"
   ]
  },
  {
   "cell_type": "code",
   "execution_count": null,
   "metadata": {},
   "outputs": [],
   "source": [
    "# Define the paths to form the QSL database\n",
    "base_path = \"./\" \n",
    "folders = ['hosp', 'icu', 'note']\n",
    "db_path = '../database/mimic.db'\n",
    "\n",
    "# Connect to SQLite database\n",
    "conn = sqlite3.connect(db_path)\n",
    "cursor = conn.cursor()\n",
    "\n",
    "# Iterate through each folder and process .csv.gz files\n",
    "for folder in folders: \n",
    "    folder_path = os.path.join(base_path, folder)\n",
    "    \n",
    "    for file in os.listdir(folder_path):\n",
    "        if file.endswith(\".csv.gz\"):\n",
    "            file_path = os.path.join(folder_path, file)\n",
    "            table_name = file.replace(\".csv.gz\", \"\")\n",
    "\n",
    "            chunk_size = 1000000\n",
    "            for chunk in pd.read_csv(file_path, compression='gzip', chunksize= chunk_size):\n",
    "                chunk.to_sql(table_name, conn, if_exists='append', index=False)\n",
    "            \n",
    "            print(f'Finished processing {file} into table {table_name}')\n",
    "\n",
    "# Close the connection\n",
    "conn.close()"
   ]
  },
  {
   "cell_type": "markdown",
   "metadata": {},
   "source": [
    "## Add indexes to the database"
   ]
  },
  {
   "cell_type": "code",
   "execution_count": 3,
   "metadata": {},
   "outputs": [
    {
     "name": "stdout",
     "output_type": "stream",
     "text": [
      "Created index idx_poe_subject_id on poe\n",
      "Created index idx_poe_hadm_id on poe\n",
      "Table d_hcpcs has neither subject_id nor hadm_id\n",
      "Created index idx_poe_detail_subject_id on poe_detail\n",
      "Created index idx_patients_subject_id on patients\n",
      "Created index idx_diagnoses_icd_subject_id on diagnoses_icd\n",
      "Created index idx_diagnoses_icd_hadm_id on diagnoses_icd\n",
      "Created index idx_emar_detail_subject_id on emar_detail\n",
      "Table provider has neither subject_id nor hadm_id\n",
      "Skipped idx_prescriptions_subject_id: index idx_prescriptions_subject_id already exists\n",
      "Created index idx_prescriptions_hadm_id on prescriptions\n",
      "Created index idx_drgcodes_subject_id on drgcodes\n",
      "Created index idx_drgcodes_hadm_id on drgcodes\n",
      "Table d_icd_diagnoses has neither subject_id nor hadm_id\n",
      "Table d_labitems has neither subject_id nor hadm_id\n",
      "Created index idx_transfers_subject_id on transfers\n",
      "Created index idx_transfers_hadm_id on transfers\n",
      "Created index idx_admissions_subject_id on admissions\n",
      "Created index idx_admissions_hadm_id on admissions\n",
      "Skipped idx_labevents_subject_id: database or disk is full\n",
      "Skipped idx_labevents_hadm_id: unable to open database file\n",
      "Skipped idx_pharmacy_subject_id: unable to open database file\n",
      "Skipped idx_pharmacy_hadm_id: unable to open database file\n",
      "Skipped idx_procedures_icd_subject_id: unable to open database file\n",
      "Skipped idx_procedures_icd_hadm_id: unable to open database file\n",
      "Skipped idx_hcpcsevents_subject_id: unable to open database file\n",
      "Skipped idx_hcpcsevents_hadm_id: unable to open database file\n",
      "Skipped idx_services_subject_id: unable to open database file\n",
      "Skipped idx_services_hadm_id: unable to open database file\n",
      "Table d_icd_procedures has neither subject_id nor hadm_id\n",
      "Skipped idx_omr_subject_id: unable to open database file\n",
      "Skipped idx_emar_subject_id: unable to open database file\n",
      "Skipped idx_emar_hadm_id: unable to open database file\n",
      "Skipped idx_microbiologyevents_subject_id: unable to open database file\n",
      "Skipped idx_microbiologyevents_hadm_id: unable to open database file\n",
      "Skipped idx_datetimeevents_subject_id: unable to open database file\n",
      "Skipped idx_datetimeevents_hadm_id: unable to open database file\n",
      "Table caregiver has neither subject_id nor hadm_id\n",
      "Skipped idx_ingredientevents_subject_id: unable to open database file\n",
      "Skipped idx_ingredientevents_hadm_id: unable to open database file\n",
      "Skipped idx_inputevents_subject_id: unable to open database file\n",
      "Skipped idx_inputevents_hadm_id: unable to open database file\n",
      "Skipped idx_procedureevents_subject_id: unable to open database file\n",
      "Skipped idx_procedureevents_hadm_id: unable to open database file\n",
      "Table d_items has neither subject_id nor hadm_id\n",
      "Skipped idx_chartevents_subject_id: unable to open database file\n",
      "Skipped idx_chartevents_hadm_id: unable to open database file\n",
      "Skipped idx_icustays_subject_id: unable to open database file\n",
      "Skipped idx_icustays_hadm_id: unable to open database file\n",
      "Skipped idx_outputevents_subject_id: unable to open database file\n",
      "Skipped idx_outputevents_hadm_id: unable to open database file\n",
      "Skipped idx_radiology_subject_id: unable to open database file\n",
      "Skipped idx_radiology_hadm_id: unable to open database file\n",
      "Skipped idx_discharge_subject_id: unable to open database file\n",
      "Skipped idx_discharge_hadm_id: unable to open database file\n",
      "Skipped idx_discharge_detail_subject_id: unable to open database file\n",
      "Skipped idx_radiology_detail_subject_id: unable to open database file\n",
      "Skipped idx_temp_los_subject_id: unable to open database file\n",
      "Skipped idx_temp_los_hadm_id: unable to open database file\n"
     ]
    }
   ],
   "source": [
    "\n",
    "# Connect to the database\n",
    "conn = sqlite3.connect('../database/mimic.db')\n",
    "cursor = conn.cursor()\n",
    "\n",
    "# Get all table names\n",
    "cursor.execute(\"SELECT name FROM sqlite_master WHERE type='table';\")\n",
    "tables = cursor.fetchall()\n",
    "\n",
    "# Iterate through each table\n",
    "for table in tables:\n",
    "    table_name = table[0]  # Extract the table name from the tuple\n",
    "    cursor.execute(f\"PRAGMA table_info({table_name});\")\n",
    "    columns = cursor.fetchall()\n",
    "    \n",
    "    # Get list of column names\n",
    "    column_names = [column[1] for column in columns]\n",
    "    \n",
    "    # Check for subject_id and create index if it exists\n",
    "    if \"subject_id\" in column_names:\n",
    "        index_name = f\"idx_{table_name}_subject_id\"\n",
    "        try:\n",
    "            cursor.execute(f\"CREATE INDEX {index_name} ON {table_name} (subject_id);\")\n",
    "            print(f\"Created index {index_name} on {table_name}\")\n",
    "        except sqlite3.OperationalError as e:\n",
    "            print(f\"Skipped {index_name}: {e}\")\n",
    "    \n",
    "    # Check for hadm_id and create index if it exists\n",
    "    if \"hadm_id\" in column_names:\n",
    "        index_name = f\"idx_{table_name}_hadm_id\"\n",
    "        try:\n",
    "            cursor.execute(f\"CREATE INDEX {index_name} ON {table_name} (hadm_id);\")\n",
    "            print(f\"Created index {index_name} on {table_name}\")\n",
    "        except sqlite3.OperationalError as e:\n",
    "            print(f\"Skipped {index_name}: {e}\")\n",
    "    \n",
    "    # Check if neither subject_id nor hadm_id exists\n",
    "    if \"subject_id\" not in column_names and \"hadm_id\" not in column_names:\n",
    "        print(f\"Table {table_name} has neither subject_id nor hadm_id\")\n",
    "\n",
    "# Commit changes and close the connection\n",
    "conn.commit()\n",
    "conn.close()"
   ]
  },
  {
   "cell_type": "code",
   "execution_count": null,
   "metadata": {},
   "outputs": [],
   "source": []
  }
 ],
 "metadata": {
  "kernelspec": {
   "display_name": "Python 3",
   "language": "python",
   "name": "python3"
  },
  "language_info": {
   "codemirror_mode": {
    "name": "ipython",
    "version": 3
   },
   "file_extension": ".py",
   "mimetype": "text/x-python",
   "name": "python",
   "nbconvert_exporter": "python",
   "pygments_lexer": "ipython3",
   "version": "3.12.1"
  }
 },
 "nbformat": 4,
 "nbformat_minor": 2
}
